{
 "cells": [
  {
   "cell_type": "markdown",
   "metadata": {},
   "source": [
    "# Introduction"
   ]
  },
  {
   "cell_type": "markdown",
   "metadata": {},
   "source": [
    "We intend to produce a model based on BERT to infer capacity of predicting if a tweet can be categorized as an Alert tweet or not."
   ]
  },
  {
   "cell_type": "markdown",
   "metadata": {},
   "source": [
    "Some kernels have already implemented such models :\n",
    "\n",
    "egortrushin/nlp-with-disaster-tweets-roberta-using-pytorch         NLP with Disaster Tweets: RoBERTa using PyTorch     Egor Trushin\n",
    "\n",
    "ashishsingh226/disaster-tweet-classification-using-distil-bert     Disaster Tweet Classification using Distil Bert     AshishSingh226\n"
   ]
  },
  {
   "cell_type": "markdown",
   "metadata": {},
   "source": [
    "We propose another implementation for BERT with fast-bert api on PyTorch"
   ]
  },
  {
   "cell_type": "markdown",
   "metadata": {},
   "source": [
    "# Imports"
   ]
  },
  {
   "cell_type": "code",
   "execution_count": 16,
   "metadata": {},
   "outputs": [
    {
     "name": "stdout",
     "output_type": "stream",
     "text": [
      "Requirement already satisfied: fast-bert in /home/alpro/anaconda3/lib/python3.8/site-packages (1.9.9)\n",
      "Requirement already satisfied: sklearn in /home/alpro/anaconda3/lib/python3.8/site-packages (from fast-bert) (0.0)\n",
      "Requirement already satisfied: matplotlib in /home/alpro/anaconda3/lib/python3.8/site-packages (from fast-bert) (3.3.2)\n",
      "Requirement already satisfied: fastprogress in /home/alpro/anaconda3/lib/python3.8/site-packages (from fast-bert) (1.0.0)\n",
      "Requirement already satisfied: transformers==3.0.2 in /home/alpro/anaconda3/lib/python3.8/site-packages (from fast-bert) (3.0.2)\n",
      "Requirement already satisfied: seqeval in /home/alpro/anaconda3/lib/python3.8/site-packages (from fast-bert) (1.2.2)\n",
      "Requirement already satisfied: tokenizers==0.8.1.rc1 in /home/alpro/anaconda3/lib/python3.8/site-packages (from fast-bert) (0.8.1rc1)\n",
      "Requirement already satisfied: more-itertools in /home/alpro/anaconda3/lib/python3.8/site-packages (from fast-bert) (8.6.0)\n",
      "Requirement already satisfied: tensorboardX in /home/alpro/anaconda3/lib/python3.8/site-packages (from fast-bert) (2.2)\n",
      "Requirement already satisfied: python-box in /home/alpro/anaconda3/lib/python3.8/site-packages (from fast-bert) (5.3.0)\n",
      "Requirement already satisfied: spacy in /home/alpro/anaconda3/lib/python3.8/site-packages (from fast-bert) (3.0.6)\n",
      "Requirement already satisfied: pandas in /home/alpro/anaconda3/lib/python3.8/site-packages (from fast-bert) (1.2.4)\n",
      "Requirement already satisfied: pytorch-lamb in /home/alpro/anaconda3/lib/python3.8/site-packages (from fast-bert) (1.0.0)\n",
      "Requirement already satisfied: scikit-learn in /home/alpro/anaconda3/lib/python3.8/site-packages (from sklearn->fast-bert) (0.23.2)\n",
      "Requirement already satisfied: pillow>=6.2.0 in /home/alpro/anaconda3/lib/python3.8/site-packages (from matplotlib->fast-bert) (8.0.1)\n",
      "Requirement already satisfied: kiwisolver>=1.0.1 in /home/alpro/anaconda3/lib/python3.8/site-packages (from matplotlib->fast-bert) (1.3.0)\n",
      "Requirement already satisfied: cycler>=0.10 in /home/alpro/anaconda3/lib/python3.8/site-packages (from matplotlib->fast-bert) (0.10.0)\n",
      "Requirement already satisfied: numpy>=1.15 in /home/alpro/anaconda3/lib/python3.8/site-packages (from matplotlib->fast-bert) (1.19.5)\n",
      "Requirement already satisfied: python-dateutil>=2.1 in /home/alpro/anaconda3/lib/python3.8/site-packages (from matplotlib->fast-bert) (2.8.1)\n",
      "Requirement already satisfied: pyparsing!=2.0.4,!=2.1.2,!=2.1.6,>=2.0.3 in /home/alpro/anaconda3/lib/python3.8/site-packages (from matplotlib->fast-bert) (2.4.7)\n",
      "Requirement already satisfied: certifi>=2020.06.20 in /home/alpro/anaconda3/lib/python3.8/site-packages (from matplotlib->fast-bert) (2020.6.20)\n",
      "Requirement already satisfied: filelock in /home/alpro/anaconda3/lib/python3.8/site-packages (from transformers==3.0.2->fast-bert) (3.0.12)\n",
      "Requirement already satisfied: sentencepiece!=0.1.92 in /home/alpro/anaconda3/lib/python3.8/site-packages (from transformers==3.0.2->fast-bert) (0.1.91)\n",
      "Requirement already satisfied: tqdm>=4.27 in /home/alpro/anaconda3/lib/python3.8/site-packages (from transformers==3.0.2->fast-bert) (4.50.2)\n",
      "Requirement already satisfied: packaging in /home/alpro/anaconda3/lib/python3.8/site-packages (from transformers==3.0.2->fast-bert) (20.4)\n",
      "Requirement already satisfied: requests in /home/alpro/anaconda3/lib/python3.8/site-packages (from transformers==3.0.2->fast-bert) (2.24.0)\n",
      "Requirement already satisfied: sacremoses in /home/alpro/anaconda3/lib/python3.8/site-packages (from transformers==3.0.2->fast-bert) (0.0.45)\n",
      "Requirement already satisfied: regex!=2019.12.17 in /home/alpro/anaconda3/lib/python3.8/site-packages (from transformers==3.0.2->fast-bert) (2020.10.15)\n",
      "Requirement already satisfied: protobuf>=3.8.0 in /home/alpro/anaconda3/lib/python3.8/site-packages (from tensorboardX->fast-bert) (3.15.8)\n",
      "Requirement already satisfied: blis<0.8.0,>=0.4.0 in /home/alpro/anaconda3/lib/python3.8/site-packages (from spacy->fast-bert) (0.7.4)\n",
      "Requirement already satisfied: setuptools in /home/alpro/anaconda3/lib/python3.8/site-packages (from spacy->fast-bert) (50.3.1.post20201107)\n",
      "Requirement already satisfied: wasabi<1.1.0,>=0.8.1 in /home/alpro/anaconda3/lib/python3.8/site-packages (from spacy->fast-bert) (0.8.2)\n",
      "Requirement already satisfied: jinja2 in /home/alpro/anaconda3/lib/python3.8/site-packages (from spacy->fast-bert) (2.11.2)\n",
      "Requirement already satisfied: spacy-legacy<3.1.0,>=3.0.4 in /home/alpro/anaconda3/lib/python3.8/site-packages (from spacy->fast-bert) (3.0.6)\n",
      "Requirement already satisfied: catalogue<2.1.0,>=2.0.3 in /home/alpro/anaconda3/lib/python3.8/site-packages (from spacy->fast-bert) (2.0.4)\n",
      "Requirement already satisfied: typer<0.4.0,>=0.3.0 in /home/alpro/anaconda3/lib/python3.8/site-packages (from spacy->fast-bert) (0.3.2)\n",
      "Requirement already satisfied: srsly<3.0.0,>=2.4.1 in /home/alpro/anaconda3/lib/python3.8/site-packages (from spacy->fast-bert) (2.4.1)\n",
      "Requirement already satisfied: pydantic<1.8.0,>=1.7.1 in /home/alpro/anaconda3/lib/python3.8/site-packages (from spacy->fast-bert) (1.7.3)\n",
      "Requirement already satisfied: pathy>=0.3.5 in /home/alpro/anaconda3/lib/python3.8/site-packages (from spacy->fast-bert) (0.4.0)\n",
      "Requirement already satisfied: thinc<8.1.0,>=8.0.3 in /home/alpro/anaconda3/lib/python3.8/site-packages (from spacy->fast-bert) (8.0.4)\n",
      "Requirement already satisfied: cymem<2.1.0,>=2.0.2 in /home/alpro/anaconda3/lib/python3.8/site-packages (from spacy->fast-bert) (2.0.5)\n",
      "Requirement already satisfied: murmurhash<1.1.0,>=0.28.0 in /home/alpro/anaconda3/lib/python3.8/site-packages (from spacy->fast-bert) (1.0.5)\n",
      "Requirement already satisfied: preshed<3.1.0,>=3.0.2 in /home/alpro/anaconda3/lib/python3.8/site-packages (from spacy->fast-bert) (3.0.5)\n",
      "Requirement already satisfied: pytz>=2017.3 in /home/alpro/anaconda3/lib/python3.8/site-packages (from pandas->fast-bert) (2020.1)\n",
      "Requirement already satisfied: torch>=0.4.1 in /home/alpro/anaconda3/lib/python3.8/site-packages (from pytorch-lamb->fast-bert) (1.8.1)\n",
      "Requirement already satisfied: torchvision in /home/alpro/anaconda3/lib/python3.8/site-packages (from pytorch-lamb->fast-bert) (0.9.1)\n",
      "Requirement already satisfied: joblib>=0.11 in /home/alpro/anaconda3/lib/python3.8/site-packages (from scikit-learn->sklearn->fast-bert) (0.17.0)\n",
      "Requirement already satisfied: scipy>=0.19.1 in /home/alpro/anaconda3/lib/python3.8/site-packages (from scikit-learn->sklearn->fast-bert) (1.5.2)\n",
      "Requirement already satisfied: threadpoolctl>=2.0.0 in /home/alpro/anaconda3/lib/python3.8/site-packages (from scikit-learn->sklearn->fast-bert) (2.1.0)\n",
      "Requirement already satisfied: six in /home/alpro/anaconda3/lib/python3.8/site-packages (from cycler>=0.10->matplotlib->fast-bert) (1.15.0)\n",
      "Requirement already satisfied: idna<3,>=2.5 in /home/alpro/anaconda3/lib/python3.8/site-packages (from requests->transformers==3.0.2->fast-bert) (2.10)\n",
      "Requirement already satisfied: chardet<4,>=3.0.2 in /home/alpro/anaconda3/lib/python3.8/site-packages (from requests->transformers==3.0.2->fast-bert) (3.0.4)\n",
      "Requirement already satisfied: urllib3!=1.25.0,!=1.25.1,<1.26,>=1.21.1 in /home/alpro/anaconda3/lib/python3.8/site-packages (from requests->transformers==3.0.2->fast-bert) (1.25.11)\n",
      "Requirement already satisfied: click in /home/alpro/anaconda3/lib/python3.8/site-packages (from sacremoses->transformers==3.0.2->fast-bert) (7.1.2)\n",
      "Requirement already satisfied: MarkupSafe>=0.23 in /home/alpro/anaconda3/lib/python3.8/site-packages (from jinja2->spacy->fast-bert) (1.1.1)\n",
      "Requirement already satisfied: smart-open<4.0.0,>=2.2.0 in /home/alpro/anaconda3/lib/python3.8/site-packages (from pathy>=0.3.5->spacy->fast-bert) (3.0.0)\n",
      "Requirement already satisfied: typing_extensions in /home/alpro/anaconda3/lib/python3.8/site-packages (from torch>=0.4.1->pytorch-lamb->fast-bert) (3.7.4.3)\n"
     ]
    }
   ],
   "source": [
    "import pandas as pd\n",
    "pd.options.mode.chained_assignment = None\n",
    "\n",
    "import torch\n",
    "!pip install fast-bert\n",
    "from fast_bert.data_cls import BertDataBunch\n",
    "from fast_bert.learner_cls import BertLearner\n",
    "from fast_bert.data_lm import BertLMDataBunch\n",
    "from fast_bert.learner_lm import BertLMLearner\n",
    "from fast_bert.metrics import fbeta, roc_auc\n",
    "from fast_bert.prediction import BertClassificationPredictor\n",
    "from pathlib import Path\n",
    "import pandas as pd\n",
    "import logging\n",
    "import os\n",
    "import pickle\n",
    "from time import time\n",
    "import seaborn as sns\n",
    "import matplotlib.pyplot as plt\n",
    "import re\n",
    "!pip install emoji\n",
    "import emoji\n",
    "\n",
    "import warnings\n",
    "warnings.filterwarnings('ignore')\n",
    "\n",
    "logger = logging.getLogger()\n",
    "device_cuda = torch.device(\"cuda\")"
   ]
  },
  {
   "cell_type": "markdown",
   "metadata": {},
   "source": [
    "# Datasets loading"
   ]
  },
  {
   "cell_type": "code",
   "execution_count": 19,
   "metadata": {},
   "outputs": [],
   "source": [
    "train_data = pd.read_csv('./../dataset/train.csv',sep=\",\")"
   ]
  },
  {
   "cell_type": "code",
   "execution_count": 20,
   "metadata": {},
   "outputs": [],
   "source": [
    "test_data = pd.read_csv('./../dataset/test.csv',sep=\",\")"
   ]
  },
  {
   "cell_type": "code",
   "execution_count": 21,
   "metadata": {},
   "outputs": [
    {
     "name": "stdout",
     "output_type": "stream",
     "text": [
      "Total rows in train data:  7613\n",
      "Total columns in train data:  5\n",
      "------------------------------\n",
      "Total rows in test data:  3263\n",
      "Total columns in test data:  4\n"
     ]
    }
   ],
   "source": [
    "print(\"Total rows in train data: \",train_data.shape[0])\n",
    "print(\"Total columns in train data: \",train_data.shape[1])\n",
    "print(\"-\"*30)\n",
    "print(\"Total rows in test data: \",test_data.shape[0])\n",
    "print(\"Total columns in test data: \",test_data.shape[1])"
   ]
  },
  {
   "cell_type": "code",
   "execution_count": 22,
   "metadata": {},
   "outputs": [
    {
     "data": {
      "text/html": [
       "<div>\n",
       "<style scoped>\n",
       "    .dataframe tbody tr th:only-of-type {\n",
       "        vertical-align: middle;\n",
       "    }\n",
       "\n",
       "    .dataframe tbody tr th {\n",
       "        vertical-align: top;\n",
       "    }\n",
       "\n",
       "    .dataframe thead th {\n",
       "        text-align: right;\n",
       "    }\n",
       "</style>\n",
       "<table border=\"1\" class=\"dataframe\">\n",
       "  <thead>\n",
       "    <tr style=\"text-align: right;\">\n",
       "      <th></th>\n",
       "      <th>id</th>\n",
       "      <th>target</th>\n",
       "    </tr>\n",
       "  </thead>\n",
       "  <tbody>\n",
       "    <tr>\n",
       "      <th>count</th>\n",
       "      <td>7613.000000</td>\n",
       "      <td>7613.00000</td>\n",
       "    </tr>\n",
       "    <tr>\n",
       "      <th>mean</th>\n",
       "      <td>5441.934848</td>\n",
       "      <td>0.42966</td>\n",
       "    </tr>\n",
       "    <tr>\n",
       "      <th>std</th>\n",
       "      <td>3137.116090</td>\n",
       "      <td>0.49506</td>\n",
       "    </tr>\n",
       "    <tr>\n",
       "      <th>min</th>\n",
       "      <td>1.000000</td>\n",
       "      <td>0.00000</td>\n",
       "    </tr>\n",
       "    <tr>\n",
       "      <th>25%</th>\n",
       "      <td>2734.000000</td>\n",
       "      <td>0.00000</td>\n",
       "    </tr>\n",
       "    <tr>\n",
       "      <th>50%</th>\n",
       "      <td>5408.000000</td>\n",
       "      <td>0.00000</td>\n",
       "    </tr>\n",
       "    <tr>\n",
       "      <th>75%</th>\n",
       "      <td>8146.000000</td>\n",
       "      <td>1.00000</td>\n",
       "    </tr>\n",
       "    <tr>\n",
       "      <th>max</th>\n",
       "      <td>10873.000000</td>\n",
       "      <td>1.00000</td>\n",
       "    </tr>\n",
       "  </tbody>\n",
       "</table>\n",
       "</div>"
      ],
      "text/plain": [
       "                 id      target\n",
       "count   7613.000000  7613.00000\n",
       "mean    5441.934848     0.42966\n",
       "std     3137.116090     0.49506\n",
       "min        1.000000     0.00000\n",
       "25%     2734.000000     0.00000\n",
       "50%     5408.000000     0.00000\n",
       "75%     8146.000000     1.00000\n",
       "max    10873.000000     1.00000"
      ]
     },
     "execution_count": 22,
     "metadata": {},
     "output_type": "execute_result"
    }
   ],
   "source": [
    "train_data.describe()"
   ]
  },
  {
   "cell_type": "code",
   "execution_count": 23,
   "metadata": {},
   "outputs": [
    {
     "data": {
      "text/html": [
       "<div>\n",
       "<style scoped>\n",
       "    .dataframe tbody tr th:only-of-type {\n",
       "        vertical-align: middle;\n",
       "    }\n",
       "\n",
       "    .dataframe tbody tr th {\n",
       "        vertical-align: top;\n",
       "    }\n",
       "\n",
       "    .dataframe thead th {\n",
       "        text-align: right;\n",
       "    }\n",
       "</style>\n",
       "<table border=\"1\" class=\"dataframe\">\n",
       "  <thead>\n",
       "    <tr style=\"text-align: right;\">\n",
       "      <th></th>\n",
       "      <th>id</th>\n",
       "    </tr>\n",
       "  </thead>\n",
       "  <tbody>\n",
       "    <tr>\n",
       "      <th>count</th>\n",
       "      <td>3263.000000</td>\n",
       "    </tr>\n",
       "    <tr>\n",
       "      <th>mean</th>\n",
       "      <td>5427.152927</td>\n",
       "    </tr>\n",
       "    <tr>\n",
       "      <th>std</th>\n",
       "      <td>3146.427221</td>\n",
       "    </tr>\n",
       "    <tr>\n",
       "      <th>min</th>\n",
       "      <td>0.000000</td>\n",
       "    </tr>\n",
       "    <tr>\n",
       "      <th>25%</th>\n",
       "      <td>2683.000000</td>\n",
       "    </tr>\n",
       "    <tr>\n",
       "      <th>50%</th>\n",
       "      <td>5500.000000</td>\n",
       "    </tr>\n",
       "    <tr>\n",
       "      <th>75%</th>\n",
       "      <td>8176.000000</td>\n",
       "    </tr>\n",
       "    <tr>\n",
       "      <th>max</th>\n",
       "      <td>10875.000000</td>\n",
       "    </tr>\n",
       "  </tbody>\n",
       "</table>\n",
       "</div>"
      ],
      "text/plain": [
       "                 id\n",
       "count   3263.000000\n",
       "mean    5427.152927\n",
       "std     3146.427221\n",
       "min        0.000000\n",
       "25%     2683.000000\n",
       "50%     5500.000000\n",
       "75%     8176.000000\n",
       "max    10875.000000"
      ]
     },
     "execution_count": 23,
     "metadata": {},
     "output_type": "execute_result"
    }
   ],
   "source": [
    "test_data.describe()"
   ]
  },
  {
   "cell_type": "code",
   "execution_count": 24,
   "metadata": {},
   "outputs": [
    {
     "data": {
      "text/html": [
       "<div>\n",
       "<style scoped>\n",
       "    .dataframe tbody tr th:only-of-type {\n",
       "        vertical-align: middle;\n",
       "    }\n",
       "\n",
       "    .dataframe tbody tr th {\n",
       "        vertical-align: top;\n",
       "    }\n",
       "\n",
       "    .dataframe thead th {\n",
       "        text-align: right;\n",
       "    }\n",
       "</style>\n",
       "<table border=\"1\" class=\"dataframe\">\n",
       "  <thead>\n",
       "    <tr style=\"text-align: right;\">\n",
       "      <th></th>\n",
       "      <th>id</th>\n",
       "      <th>keyword</th>\n",
       "      <th>location</th>\n",
       "      <th>text</th>\n",
       "      <th>target</th>\n",
       "    </tr>\n",
       "  </thead>\n",
       "  <tbody>\n",
       "    <tr>\n",
       "      <th>0</th>\n",
       "      <td>1</td>\n",
       "      <td>NaN</td>\n",
       "      <td>NaN</td>\n",
       "      <td>Our Deeds are the Reason of this #earthquake M...</td>\n",
       "      <td>1</td>\n",
       "    </tr>\n",
       "    <tr>\n",
       "      <th>1</th>\n",
       "      <td>4</td>\n",
       "      <td>NaN</td>\n",
       "      <td>NaN</td>\n",
       "      <td>Forest fire near La Ronge Sask. Canada</td>\n",
       "      <td>1</td>\n",
       "    </tr>\n",
       "    <tr>\n",
       "      <th>2</th>\n",
       "      <td>5</td>\n",
       "      <td>NaN</td>\n",
       "      <td>NaN</td>\n",
       "      <td>All residents asked to 'shelter in place' are ...</td>\n",
       "      <td>1</td>\n",
       "    </tr>\n",
       "    <tr>\n",
       "      <th>3</th>\n",
       "      <td>6</td>\n",
       "      <td>NaN</td>\n",
       "      <td>NaN</td>\n",
       "      <td>13,000 people receive #wildfires evacuation or...</td>\n",
       "      <td>1</td>\n",
       "    </tr>\n",
       "    <tr>\n",
       "      <th>4</th>\n",
       "      <td>7</td>\n",
       "      <td>NaN</td>\n",
       "      <td>NaN</td>\n",
       "      <td>Just got sent this photo from Ruby #Alaska as ...</td>\n",
       "      <td>1</td>\n",
       "    </tr>\n",
       "  </tbody>\n",
       "</table>\n",
       "</div>"
      ],
      "text/plain": [
       "   id keyword location                                               text  \\\n",
       "0   1     NaN      NaN  Our Deeds are the Reason of this #earthquake M...   \n",
       "1   4     NaN      NaN             Forest fire near La Ronge Sask. Canada   \n",
       "2   5     NaN      NaN  All residents asked to 'shelter in place' are ...   \n",
       "3   6     NaN      NaN  13,000 people receive #wildfires evacuation or...   \n",
       "4   7     NaN      NaN  Just got sent this photo from Ruby #Alaska as ...   \n",
       "\n",
       "   target  \n",
       "0       1  \n",
       "1       1  \n",
       "2       1  \n",
       "3       1  \n",
       "4       1  "
      ]
     },
     "execution_count": 24,
     "metadata": {},
     "output_type": "execute_result"
    }
   ],
   "source": [
    "train_data.head()"
   ]
  },
  {
   "cell_type": "markdown",
   "metadata": {},
   "source": [
    "# Data Exploration & Cleaning"
   ]
  },
  {
   "cell_type": "code",
   "execution_count": 25,
   "metadata": {},
   "outputs": [
    {
     "name": "stdout",
     "output_type": "stream",
     "text": [
      "id             0\n",
      "keyword       61\n",
      "location    2533\n",
      "text           0\n",
      "target         0\n",
      "dtype: int64\n",
      "------------------------------\n",
      "id             0\n",
      "keyword       26\n",
      "location    1105\n",
      "text           0\n",
      "dtype: int64\n"
     ]
    }
   ],
   "source": [
    "print(train_data.isnull().sum())\n",
    "print(\"-\"*30)\n",
    "print(test_data.isnull().sum())"
   ]
  },
  {
   "cell_type": "markdown",
   "metadata": {},
   "source": [
    "We drop keyword and location columns as too many Nan and not really useful in the perspective of this classification objective."
   ]
  },
  {
   "cell_type": "code",
   "execution_count": 26,
   "metadata": {},
   "outputs": [
    {
     "data": {
      "text/plain": [
       "target\n",
       "0    4342\n",
       "1    3271\n",
       "Name: text, dtype: int64"
      ]
     },
     "execution_count": 26,
     "metadata": {},
     "output_type": "execute_result"
    }
   ],
   "source": [
    "train_data.groupby(train_data.target).count().text"
   ]
  },
  {
   "cell_type": "code",
   "execution_count": 27,
   "metadata": {},
   "outputs": [
    {
     "name": "stderr",
     "output_type": "stream",
     "text": [
      "/home/alpro/anaconda3/lib/python3.8/site-packages/seaborn/_decorators.py:36: FutureWarning: Pass the following variable as a keyword arg: x. From version 0.12, the only valid positional argument will be `data`, and passing other arguments without an explicit keyword will result in an error or misinterpretation.\n",
      "  warnings.warn(\n"
     ]
    },
    {
     "data": {
      "image/png": "[encoded data removed]",
      "text/plain": [
       "<Figure size 432x288 with 1 Axes>"
      ]
     },
     "metadata": {
      "needs_background": "light"
     },
     "output_type": "display_data"
    }
   ],
   "source": [
    "sns.countplot(train_data.target,data = train_data)\n",
    "plt.show()"
   ]
  },
  {
   "cell_type": "markdown",
   "metadata": {},
   "source": [
    "### Dropping keyword and location columns"
   ]
  },
  {
   "cell_type": "code",
   "execution_count": 30,
   "metadata": {},
   "outputs": [],
   "source": [
    "train_data = train_data.drop(['keyword','location'], axis = 1)\n",
    "test_data = test_data.drop(['keyword','location'], axis = 1)"
   ]
  },
  {
   "cell_type": "code",
   "execution_count": 31,
   "metadata": {},
   "outputs": [
    {
     "data": {
      "text/html": [
       "<div>\n",
       "<style scoped>\n",
       "    .dataframe tbody tr th:only-of-type {\n",
       "        vertical-align: middle;\n",
       "    }\n",
       "\n",
       "    .dataframe tbody tr th {\n",
       "        vertical-align: top;\n",
       "    }\n",
       "\n",
       "    .dataframe thead th {\n",
       "        text-align: right;\n",
       "    }\n",
       "</style>\n",
       "<table border=\"1\" class=\"dataframe\">\n",
       "  <thead>\n",
       "    <tr style=\"text-align: right;\">\n",
       "      <th></th>\n",
       "      <th>id</th>\n",
       "      <th>text</th>\n",
       "      <th>target</th>\n",
       "    </tr>\n",
       "  </thead>\n",
       "  <tbody>\n",
       "    <tr>\n",
       "      <th>0</th>\n",
       "      <td>1</td>\n",
       "      <td>Our Deeds are the Reason of this #earthquake M...</td>\n",
       "      <td>1</td>\n",
       "    </tr>\n",
       "    <tr>\n",
       "      <th>1</th>\n",
       "      <td>4</td>\n",
       "      <td>Forest fire near La Ronge Sask. Canada</td>\n",
       "      <td>1</td>\n",
       "    </tr>\n",
       "    <tr>\n",
       "      <th>2</th>\n",
       "      <td>5</td>\n",
       "      <td>All residents asked to 'shelter in place' are ...</td>\n",
       "      <td>1</td>\n",
       "    </tr>\n",
       "    <tr>\n",
       "      <th>3</th>\n",
       "      <td>6</td>\n",
       "      <td>13,000 people receive #wildfires evacuation or...</td>\n",
       "      <td>1</td>\n",
       "    </tr>\n",
       "    <tr>\n",
       "      <th>4</th>\n",
       "      <td>7</td>\n",
       "      <td>Just got sent this photo from Ruby #Alaska as ...</td>\n",
       "      <td>1</td>\n",
       "    </tr>\n",
       "  </tbody>\n",
       "</table>\n",
       "</div>"
      ],
      "text/plain": [
       "   id                                               text  target\n",
       "0   1  Our Deeds are the Reason of this #earthquake M...       1\n",
       "1   4             Forest fire near La Ronge Sask. Canada       1\n",
       "2   5  All residents asked to 'shelter in place' are ...       1\n",
       "3   6  13,000 people receive #wildfires evacuation or...       1\n",
       "4   7  Just got sent this photo from Ruby #Alaska as ...       1"
      ]
     },
     "execution_count": 31,
     "metadata": {},
     "output_type": "execute_result"
    }
   ],
   "source": [
    "train_data.head()"
   ]
  },
  {
   "cell_type": "markdown",
   "metadata": {},
   "source": [
    "# Preprocessing "
   ]
  },
  {
   "cell_type": "markdown",
   "metadata": {},
   "source": [
    "We need to remove superfluous data like url, emoji"
   ]
  },
  {
   "cell_type": "code",
   "execution_count": 33,
   "metadata": {},
   "outputs": [
    {
     "name": "stdout",
     "output_type": "stream",
     "text": [
      "Collecting emoji\n",
      "  Downloading emoji-1.2.0-py3-none-any.whl (131 kB)\n",
      "\u001b[K     |████████████████████████████████| 131 kB 4.3 MB/s eta 0:00:01\n",
      "\u001b[?25hInstalling collected packages: emoji\n",
      "Successfully installed emoji-1.2.0\n"
     ]
    }
   ],
   "source": [
    "import re\n",
    "!pip install emoji\n",
    "import emoji\n",
    "def cleanTweet(txt):\n",
    "    txt = re.sub(r'@[A-Za-z0-9_]+','',txt)\n",
    "    txt = re.sub(r'#','',txt)\n",
    "    txt = re.sub(r'RT : ','',txt)\n",
    "    txt = re.sub(r'\\n','',txt)\n",
    "    # to remove emojis\n",
    "    txt = re.sub(emoji.get_emoji_regexp(), r\"\", txt)\n",
    "    txt = re.sub(r'https?:\\/\\/[A-Za-z0-9\\.\\/]+','',txt)\n",
    "    txt = re.sub(r\"https?://\\S+|www\\.\\S+\",\"\",txt)\n",
    "    txt = re.sub(r\"<.*?>\",\"\",txt)\n",
    "    return txt  \n",
    "\n",
    "def make_Lower(text):\n",
    "    return str.lower(text)"
   ]
  },
  {
   "cell_type": "code",
   "execution_count": 34,
   "metadata": {},
   "outputs": [],
   "source": [
    "train_data.text = train_data.text.apply(cleanTweet)\n",
    "train_data.text = train_data.text.apply(make_Lower)\n",
    "\n",
    "test_data.text = test_data.text.apply(cleanTweet)\n",
    "test_data.text = test_data.text.apply(make_Lower)"
   ]
  },
  {
   "cell_type": "markdown",
   "metadata": {},
   "source": [
    "# Model"
   ]
  },
  {
   "cell_type": "code",
   "execution_count": null,
   "metadata": {},
   "outputs": [],
   "source": []
  }
 ],
 "metadata": {
  "kernelspec": {
   "display_name": "Python 3",
   "language": "python",
   "name": "python3"
  },
  "language_info": {
   "codemirror_mode": {
    "name": "ipython",
    "version": 3
   },
   "file_extension": ".py",
   "mimetype": "text/x-python",
   "name": "python",
   "nbconvert_exporter": "python",
   "pygments_lexer": "ipython3",
   "version": "3.8.5"
  }
 },
 "nbformat": 4,
 "nbformat_minor": 4
}
